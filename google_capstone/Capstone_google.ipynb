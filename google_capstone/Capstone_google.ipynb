{
  "cells": [
    {
      "cell_type": "markdown",
      "id": "e386e8d9",
      "metadata": {
        "id": "e386e8d9"
      },
      "source": [
        "Esse projeto tem como objetivo analisar o comportamento dos tipos de clientes, member e casual, no período de todo o ano de 2021. O projeto abrangeu todo o processo de análise de dados, desde o entendimento do problema até o compartilhamento dos achados da análise. Como ferramenta utilizada escolhi python, pois acho melhor para trabalhar com conjuntos maiores. A seguir algumas informações sobre o projeto:\n",
        "\n",
        "### Colunas do Dataset\n",
        "\n",
        "> **ride_id:** ID da Bicicleta   \n",
        "> **rideable_type:** Tipo da bicicleta   \n",
        "> **started_at:** Data e tempo de início utilização  \n",
        "> **ended_at:** Data e tempo de fim de utilização   \n",
        "> **start_station_name:** Nome da estação de início   \n",
        "> **start_station_id:** ID da estação de início   \n",
        "> **end_station_name** Nome da estação de fim   \n",
        "> **end_station_id:** ID da estação de fim   \n",
        "> **start_lat:** Latitude de início   \n",
        "> **start_lng:** Longitude de início   \n",
        "> **end_lat:** Latitude de fim   \n",
        "> **end_lng:** Longitude de fim    \n",
        "> **member_casual:** Tipo de cliente   \n",
        "### Objetivo principal:\n",
        "\n",
        "Analisar os padrões de uso dos clientes de uma empresa de compartilhamneto de bicicletas e converter os clientes do tipo casual em member\n",
        "\n",
        "### O que a análise buscará responder:\n",
        "\n",
        "        - Quais os tipos de bicicleta são os preferidos por tipo de cliente;\n",
        "        - Quais partes do dia são as preferidas por tipo de cliente;\n",
        "        - Quais dias da semana são os preferidos por tipo de cliente;\n",
        "        - Quais períodos do ano são os preferidos por tipo de cliente;\n",
        "        - Quais estações são as preferidas por tipo de cliente;\n",
        "        - Qual o tempo médio de uso por tipo de cliente.\n",
        "\n",
        "### O que se esperar com essa análise:\n",
        "\n",
        "Espera-se que os  stakeholders tomem medidas com base na análise para resolver o problema de conversão de clientes do tipo casual no tipo member. Por meio da análise os interessados poderão observar as principais diferenças no padrão de uso de seus clientes e escolher a melhor estratégia de negócio para alcançar seus objetivos."
      ]
    },
    {
      "cell_type": "markdown",
      "id": "fb1a5cba",
      "metadata": {
        "id": "fb1a5cba"
      },
      "source": [
        "Fonte dos dados: <https://www.kaggle.com/datasets/yuliuschandragunawan/divvy-chicago-bikesharing-data>"
      ]
    },
    {
      "cell_type": "markdown",
      "id": "c37bf28b-79ef-4526-b01f-33012f1349e8",
      "metadata": {
        "id": "c37bf28b-79ef-4526-b01f-33012f1349e8"
      },
      "source": [
        "## Importando as Bibliotecas"
      ]
    },
    {
      "cell_type": "code",
      "execution_count": 1,
      "id": "de452306-e8d2-4a28-b94b-366fe1df0a3b",
      "metadata": {
        "id": "de452306-e8d2-4a28-b94b-366fe1df0a3b"
      },
      "outputs": [],
      "source": [
        "import pandas as pd\n",
        "import numpy as np\n",
        "import datetime as dt\n",
        "import glob\n",
        "import matplotlib.pyplot as plt\n",
        "import seaborn as sns\n",
        "import warnings\n",
        "\n",
        "warnings.filterwarnings(\"ignore\")"
      ]
    },
    {
      "cell_type": "markdown",
      "id": "46e5b042-8649-4b9e-a169-3dd70662aa86",
      "metadata": {
        "id": "46e5b042-8649-4b9e-a169-3dd70662aa86"
      },
      "source": [
        "## Carregando os dados e olhando o DataFrame"
      ]
    },
    {
      "cell_type": "code",
      "execution_count": 2,
      "id": "8b5dc7ce-2641-4ed1-aea4-0adbe72f2f57",
      "metadata": {
        "id": "8b5dc7ce-2641-4ed1-aea4-0adbe72f2f57"
      },
      "outputs": [],
      "source": [
        "path = 'data/'\n",
        "all_files = glob.glob(path + \"/*.csv\")\n",
        "li = []\n",
        "for filename in all_files:\n",
        "    df = pd.read_csv(filename, index_col=None, header=0)\n",
        "    li.append(df)\n",
        "df = pd.concat(li, axis=0, ignore_index=True)"
      ]
    },
    {
      "cell_type": "code",
      "execution_count": 3,
      "id": "88dc3489-7664-45c1-8712-786321216836",
      "metadata": {
        "id": "88dc3489-7664-45c1-8712-786321216836",
        "outputId": "ee63ee1c-663a-4a77-891d-d3d3e371bfd6",
        "colab": {
          "base_uri": "https://localhost:8080/"
        }
      },
      "outputs": [
        {
          "output_type": "execute_result",
          "data": {
            "text/plain": [
              "(3489748, 13)"
            ]
          },
          "metadata": {},
          "execution_count": 3
        }
      ],
      "source": [
        "df.shape"
      ]
    },
    {
      "cell_type": "code",
      "execution_count": 4,
      "id": "bb060aac-e29d-40f8-bbd2-b929cd72ec37",
      "metadata": {
        "id": "bb060aac-e29d-40f8-bbd2-b929cd72ec37",
        "outputId": "e4e46df2-bb81-4fef-95a9-f7175bb99eb9",
        "colab": {
          "base_uri": "https://localhost:8080/"
        }
      },
      "outputs": [
        {
          "output_type": "execute_result",
          "data": {
            "text/plain": [
              "ride_id                object\n",
              "rideable_type          object\n",
              "started_at             object\n",
              "ended_at               object\n",
              "start_station_name     object\n",
              "start_station_id       object\n",
              "end_station_name       object\n",
              "end_station_id         object\n",
              "start_lat             float64\n",
              "start_lng             float64\n",
              "end_lat               float64\n",
              "end_lng               float64\n",
              "member_casual          object\n",
              "dtype: object"
            ]
          },
          "metadata": {},
          "execution_count": 4
        }
      ],
      "source": [
        "df.dtypes"
      ]
    },
    {
      "cell_type": "code",
      "execution_count": 5,
      "id": "1e322ee8-1cf4-4862-92a4-780c995ae726",
      "metadata": {
        "id": "1e322ee8-1cf4-4862-92a4-780c995ae726",
        "outputId": "6a0ef418-fa69-43b1-9706-e96457b43899",
        "colab": {
          "base_uri": "https://localhost:8080/",
          "height": 444
        }
      },
      "outputs": [
        {
          "output_type": "execute_result",
          "data": {
            "text/plain": [
              "            ride_id rideable_type           started_at             ended_at  \\\n",
              "0  A847FADBBC638E45   docked_bike  2020-04-26 17:45:14  2020-04-26 18:12:03   \n",
              "1  5405B80E996FF60D   docked_bike  2020-04-17 17:08:54  2020-04-17 17:17:03   \n",
              "2  5DD24A79A4E006F4   docked_bike  2020-04-01 17:54:13  2020-04-01 18:08:36   \n",
              "3  2A59BBDF5CDBA725   docked_bike  2020-04-07 12:50:19  2020-04-07 13:02:31   \n",
              "4  27AD306C119C6158   docked_bike  2020-04-18 10:22:59  2020-04-18 11:15:54   \n",
              "\n",
              "             start_station_name start_station_id             end_station_name  \\\n",
              "0                  Eckhart Park               86  Lincoln Ave & Diversey Pkwy   \n",
              "1     Drake Ave & Fullerton Ave              503              Kosciuszko Park   \n",
              "2          McClurg Ct & Erie St              142   Indiana Ave & Roosevelt Rd   \n",
              "3  California Ave & Division St              216       Wood St & Augusta Blvd   \n",
              "4          Rush St & Hubbard St              125   Sheridan Rd & Lawrence Ave   \n",
              "\n",
              "  end_station_id  start_lat  start_lng  end_lat  end_lng member_casual  \n",
              "0          152.0    41.8964   -87.6610  41.9322 -87.6586        member  \n",
              "1          499.0    41.9244   -87.7154  41.9306 -87.7238        member  \n",
              "2          255.0    41.8945   -87.6179  41.8679 -87.6230        member  \n",
              "3          657.0    41.9030   -87.6975  41.8992 -87.6722        member  \n",
              "4          323.0    41.8902   -87.6262  41.9695 -87.6547        casual  "
            ],
            "text/html": [
              "\n",
              "  <div id=\"df-cda140ea-c16a-4238-9d16-adcf739eac92\">\n",
              "    <div class=\"colab-df-container\">\n",
              "      <div>\n",
              "<style scoped>\n",
              "    .dataframe tbody tr th:only-of-type {\n",
              "        vertical-align: middle;\n",
              "    }\n",
              "\n",
              "    .dataframe tbody tr th {\n",
              "        vertical-align: top;\n",
              "    }\n",
              "\n",
              "    .dataframe thead th {\n",
              "        text-align: right;\n",
              "    }\n",
              "</style>\n",
              "<table border=\"1\" class=\"dataframe\">\n",
              "  <thead>\n",
              "    <tr style=\"text-align: right;\">\n",
              "      <th></th>\n",
              "      <th>ride_id</th>\n",
              "      <th>rideable_type</th>\n",
              "      <th>started_at</th>\n",
              "      <th>ended_at</th>\n",
              "      <th>start_station_name</th>\n",
              "      <th>start_station_id</th>\n",
              "      <th>end_station_name</th>\n",
              "      <th>end_station_id</th>\n",
              "      <th>start_lat</th>\n",
              "      <th>start_lng</th>\n",
              "      <th>end_lat</th>\n",
              "      <th>end_lng</th>\n",
              "      <th>member_casual</th>\n",
              "    </tr>\n",
              "  </thead>\n",
              "  <tbody>\n",
              "    <tr>\n",
              "      <th>0</th>\n",
              "      <td>A847FADBBC638E45</td>\n",
              "      <td>docked_bike</td>\n",
              "      <td>2020-04-26 17:45:14</td>\n",
              "      <td>2020-04-26 18:12:03</td>\n",
              "      <td>Eckhart Park</td>\n",
              "      <td>86</td>\n",
              "      <td>Lincoln Ave &amp; Diversey Pkwy</td>\n",
              "      <td>152.0</td>\n",
              "      <td>41.8964</td>\n",
              "      <td>-87.6610</td>\n",
              "      <td>41.9322</td>\n",
              "      <td>-87.6586</td>\n",
              "      <td>member</td>\n",
              "    </tr>\n",
              "    <tr>\n",
              "      <th>1</th>\n",
              "      <td>5405B80E996FF60D</td>\n",
              "      <td>docked_bike</td>\n",
              "      <td>2020-04-17 17:08:54</td>\n",
              "      <td>2020-04-17 17:17:03</td>\n",
              "      <td>Drake Ave &amp; Fullerton Ave</td>\n",
              "      <td>503</td>\n",
              "      <td>Kosciuszko Park</td>\n",
              "      <td>499.0</td>\n",
              "      <td>41.9244</td>\n",
              "      <td>-87.7154</td>\n",
              "      <td>41.9306</td>\n",
              "      <td>-87.7238</td>\n",
              "      <td>member</td>\n",
              "    </tr>\n",
              "    <tr>\n",
              "      <th>2</th>\n",
              "      <td>5DD24A79A4E006F4</td>\n",
              "      <td>docked_bike</td>\n",
              "      <td>2020-04-01 17:54:13</td>\n",
              "      <td>2020-04-01 18:08:36</td>\n",
              "      <td>McClurg Ct &amp; Erie St</td>\n",
              "      <td>142</td>\n",
              "      <td>Indiana Ave &amp; Roosevelt Rd</td>\n",
              "      <td>255.0</td>\n",
              "      <td>41.8945</td>\n",
              "      <td>-87.6179</td>\n",
              "      <td>41.8679</td>\n",
              "      <td>-87.6230</td>\n",
              "      <td>member</td>\n",
              "    </tr>\n",
              "    <tr>\n",
              "      <th>3</th>\n",
              "      <td>2A59BBDF5CDBA725</td>\n",
              "      <td>docked_bike</td>\n",
              "      <td>2020-04-07 12:50:19</td>\n",
              "      <td>2020-04-07 13:02:31</td>\n",
              "      <td>California Ave &amp; Division St</td>\n",
              "      <td>216</td>\n",
              "      <td>Wood St &amp; Augusta Blvd</td>\n",
              "      <td>657.0</td>\n",
              "      <td>41.9030</td>\n",
              "      <td>-87.6975</td>\n",
              "      <td>41.8992</td>\n",
              "      <td>-87.6722</td>\n",
              "      <td>member</td>\n",
              "    </tr>\n",
              "    <tr>\n",
              "      <th>4</th>\n",
              "      <td>27AD306C119C6158</td>\n",
              "      <td>docked_bike</td>\n",
              "      <td>2020-04-18 10:22:59</td>\n",
              "      <td>2020-04-18 11:15:54</td>\n",
              "      <td>Rush St &amp; Hubbard St</td>\n",
              "      <td>125</td>\n",
              "      <td>Sheridan Rd &amp; Lawrence Ave</td>\n",
              "      <td>323.0</td>\n",
              "      <td>41.8902</td>\n",
              "      <td>-87.6262</td>\n",
              "      <td>41.9695</td>\n",
              "      <td>-87.6547</td>\n",
              "      <td>casual</td>\n",
              "    </tr>\n",
              "  </tbody>\n",
              "</table>\n",
              "</div>\n",
              "      <button class=\"colab-df-convert\" onclick=\"convertToInteractive('df-cda140ea-c16a-4238-9d16-adcf739eac92')\"\n",
              "              title=\"Convert this dataframe to an interactive table.\"\n",
              "              style=\"display:none;\">\n",
              "        \n",
              "  <svg xmlns=\"http://www.w3.org/2000/svg\" height=\"24px\"viewBox=\"0 0 24 24\"\n",
              "       width=\"24px\">\n",
              "    <path d=\"M0 0h24v24H0V0z\" fill=\"none\"/>\n",
              "    <path d=\"M18.56 5.44l.94 2.06.94-2.06 2.06-.94-2.06-.94-.94-2.06-.94 2.06-2.06.94zm-11 1L8.5 8.5l.94-2.06 2.06-.94-2.06-.94L8.5 2.5l-.94 2.06-2.06.94zm10 10l.94 2.06.94-2.06 2.06-.94-2.06-.94-.94-2.06-.94 2.06-2.06.94z\"/><path d=\"M17.41 7.96l-1.37-1.37c-.4-.4-.92-.59-1.43-.59-.52 0-1.04.2-1.43.59L10.3 9.45l-7.72 7.72c-.78.78-.78 2.05 0 2.83L4 21.41c.39.39.9.59 1.41.59.51 0 1.02-.2 1.41-.59l7.78-7.78 2.81-2.81c.8-.78.8-2.07 0-2.86zM5.41 20L4 18.59l7.72-7.72 1.47 1.35L5.41 20z\"/>\n",
              "  </svg>\n",
              "      </button>\n",
              "      \n",
              "  <style>\n",
              "    .colab-df-container {\n",
              "      display:flex;\n",
              "      flex-wrap:wrap;\n",
              "      gap: 12px;\n",
              "    }\n",
              "\n",
              "    .colab-df-convert {\n",
              "      background-color: #E8F0FE;\n",
              "      border: none;\n",
              "      border-radius: 50%;\n",
              "      cursor: pointer;\n",
              "      display: none;\n",
              "      fill: #1967D2;\n",
              "      height: 32px;\n",
              "      padding: 0 0 0 0;\n",
              "      width: 32px;\n",
              "    }\n",
              "\n",
              "    .colab-df-convert:hover {\n",
              "      background-color: #E2EBFA;\n",
              "      box-shadow: 0px 1px 2px rgba(60, 64, 67, 0.3), 0px 1px 3px 1px rgba(60, 64, 67, 0.15);\n",
              "      fill: #174EA6;\n",
              "    }\n",
              "\n",
              "    [theme=dark] .colab-df-convert {\n",
              "      background-color: #3B4455;\n",
              "      fill: #D2E3FC;\n",
              "    }\n",
              "\n",
              "    [theme=dark] .colab-df-convert:hover {\n",
              "      background-color: #434B5C;\n",
              "      box-shadow: 0px 1px 3px 1px rgba(0, 0, 0, 0.15);\n",
              "      filter: drop-shadow(0px 1px 2px rgba(0, 0, 0, 0.3));\n",
              "      fill: #FFFFFF;\n",
              "    }\n",
              "  </style>\n",
              "\n",
              "      <script>\n",
              "        const buttonEl =\n",
              "          document.querySelector('#df-cda140ea-c16a-4238-9d16-adcf739eac92 button.colab-df-convert');\n",
              "        buttonEl.style.display =\n",
              "          google.colab.kernel.accessAllowed ? 'block' : 'none';\n",
              "\n",
              "        async function convertToInteractive(key) {\n",
              "          const element = document.querySelector('#df-cda140ea-c16a-4238-9d16-adcf739eac92');\n",
              "          const dataTable =\n",
              "            await google.colab.kernel.invokeFunction('convertToInteractive',\n",
              "                                                     [key], {});\n",
              "          if (!dataTable) return;\n",
              "\n",
              "          const docLinkHtml = 'Like what you see? Visit the ' +\n",
              "            '<a target=\"_blank\" href=https://colab.research.google.com/notebooks/data_table.ipynb>data table notebook</a>'\n",
              "            + ' to learn more about interactive tables.';\n",
              "          element.innerHTML = '';\n",
              "          dataTable['output_type'] = 'display_data';\n",
              "          await google.colab.output.renderOutput(dataTable, element);\n",
              "          const docLink = document.createElement('div');\n",
              "          docLink.innerHTML = docLinkHtml;\n",
              "          element.appendChild(docLink);\n",
              "        }\n",
              "      </script>\n",
              "    </div>\n",
              "  </div>\n",
              "  "
            ]
          },
          "metadata": {},
          "execution_count": 5
        }
      ],
      "source": [
        "df.head()"
      ]
    },
    {
      "cell_type": "markdown",
      "id": "6b98577d-a99a-4300-94aa-f20db17a67b5",
      "metadata": {
        "id": "6b98577d-a99a-4300-94aa-f20db17a67b5"
      },
      "source": [
        "## Preparando os dados para a análise"
      ]
    },
    {
      "cell_type": "markdown",
      "id": "c4afd86f-3d07-4f55-a9d8-8695d827252e",
      "metadata": {
        "id": "c4afd86f-3d07-4f55-a9d8-8695d827252e"
      },
      "source": [
        "#### Drop de colunas desnecessárias para a análise\n",
        "\n",
        "##### Motivos:\n",
        "    \n",
        "    -1 A análise será de indentificar padrões de dois grupos, por isso não é nescessário essas colunas de ID\n",
        "    -2 O conjunto de dados já traz informações que permitem indentificar as estações"
      ]
    },
    {
      "cell_type": "code",
      "execution_count": 6,
      "id": "db7fcefb-2b26-4d4a-8a5d-ad3158f83708",
      "metadata": {
        "id": "db7fcefb-2b26-4d4a-8a5d-ad3158f83708"
      },
      "outputs": [],
      "source": [
        "df.drop(['ride_id', 'start_station_id', 'end_station_id'], axis=1, inplace=True)"
      ]
    },
    {
      "cell_type": "markdown",
      "id": "eabf5c16-99db-405e-8587-08fddb895002",
      "metadata": {
        "id": "eabf5c16-99db-405e-8587-08fddb895002"
      },
      "source": [
        "#### Tratamento de dados ausentes"
      ]
    },
    {
      "cell_type": "code",
      "execution_count": 7,
      "id": "3963a704-5daa-4787-9716-e01598407ac4",
      "metadata": {
        "id": "3963a704-5daa-4787-9716-e01598407ac4",
        "outputId": "6607199d-1839-4a6f-bd49-bbcf58e872b2",
        "colab": {
          "base_uri": "https://localhost:8080/"
        }
      },
      "outputs": [
        {
          "output_type": "execute_result",
          "data": {
            "text/plain": [
              "rideable_type         False\n",
              "started_at            False\n",
              "ended_at              False\n",
              "start_station_name     True\n",
              "end_station_name       True\n",
              "start_lat             False\n",
              "start_lng             False\n",
              "end_lat                True\n",
              "end_lng                True\n",
              "member_casual         False\n",
              "dtype: bool"
            ]
          },
          "metadata": {},
          "execution_count": 7
        }
      ],
      "source": [
        "# Vamos olhar as colunas com dados ausentes\n",
        "df.isnull().any()"
      ]
    },
    {
      "cell_type": "markdown",
      "id": "2ab9f9d9-107c-486d-acfc-2e090049a1ae",
      "metadata": {
        "id": "2ab9f9d9-107c-486d-acfc-2e090049a1ae"
      },
      "source": [
        "##### O DataFrame tem 4 colunas que apresentam algum dado ausente, por isso vou criar uma função que mensure a dimensão que esse problema tem"
      ]
    },
    {
      "cell_type": "code",
      "execution_count": 8,
      "id": "ce6d66f3-7d4b-4b80-81b2-0811baff5d12",
      "metadata": {
        "id": "ce6d66f3-7d4b-4b80-81b2-0811baff5d12"
      },
      "outputs": [],
      "source": [
        "def missingData(df):\n",
        "  missing_df = round(df.isnull().sum().sum() / np.product(df.shape) * 100, 2)\n",
        "  print(f'O DataFrame tem {missing_df}% de dados ausentes')\n",
        "  print('\\n')\n",
        "  for col in df.columns:\n",
        "    missing_col = round(df[col].isnull().mean() * 100, 2)\n",
        "    if missing_col != 0:\n",
        "      print(f'A coluna {col} tem {missing_col}% de dados ausentes')"
      ]
    },
    {
      "cell_type": "code",
      "execution_count": 9,
      "id": "f1831d9b-ac98-47c9-9436-adda434548fc",
      "metadata": {
        "id": "f1831d9b-ac98-47c9-9436-adda434548fc",
        "outputId": "5e243ce2-d2e4-41de-fa67-7fdfdd596a9e",
        "colab": {
          "base_uri": "https://localhost:8080/"
        }
      },
      "outputs": [
        {
          "output_type": "stream",
          "name": "stdout",
          "text": [
            "O DataFrame tem 0.79% de dados ausentes\n",
            "\n",
            "\n",
            "A coluna start_station_name tem 3.5% de dados ausentes\n",
            "A coluna end_station_name tem 4.1% de dados ausentes\n",
            "A coluna end_lat tem 0.14% de dados ausentes\n",
            "A coluna end_lng tem 0.14% de dados ausentes\n"
          ]
        }
      ],
      "source": [
        "missingData(df)"
      ]
    },
    {
      "cell_type": "code",
      "execution_count": 10,
      "id": "95eeb20c-d288-4487-89ed-a7db522f9207",
      "metadata": {
        "id": "95eeb20c-d288-4487-89ed-a7db522f9207",
        "outputId": "ee6d1936-c6b9-43c3-967c-8bce40fa766b",
        "colab": {
          "base_uri": "https://localhost:8080/",
          "height": 492
        }
      },
      "outputs": [
        {
          "output_type": "display_data",
          "data": {
            "text/plain": [
              "<Figure size 864x576 with 2 Axes>"
            ],
            "image/png": "[encoded data removed]"
          },
          "metadata": {
            "needs_background": "light"
          }
        }
      ],
      "source": [
        "plt.figure(figsize=(12, 8))\n",
        "sns.heatmap(data=df.isnull().transpose(), cmap=\"YlGnBu\")\n",
        "plt.title('Dados Ausentes', fontdict={'fontsize':18})\n",
        "plt.gca().axes.get_xaxis().set_visible(False);"
      ]
    },
    {
      "cell_type": "markdown",
      "source": [
        "Como apenas 0.79% dos dados são ausentes escolhi fazer o drop de linhas"
      ],
      "metadata": {
        "id": "HchMl5X5t_kI"
      },
      "id": "HchMl5X5t_kI"
    },
    {
      "cell_type": "code",
      "execution_count": 11,
      "id": "d355a6ec-b2cb-455b-b110-6395f50097a4",
      "metadata": {
        "id": "d355a6ec-b2cb-455b-b110-6395f50097a4"
      },
      "outputs": [],
      "source": [
        "df.dropna(axis=0, inplace=True)"
      ]
    },
    {
      "cell_type": "code",
      "execution_count": 12,
      "id": "507025ec-e11d-466a-914b-9be7031dc873",
      "metadata": {
        "id": "507025ec-e11d-466a-914b-9be7031dc873",
        "outputId": "346dd80c-ec14-48a3-8629-e076ba7b3454",
        "colab": {
          "base_uri": "https://localhost:8080/"
        }
      },
      "outputs": [
        {
          "output_type": "stream",
          "name": "stdout",
          "text": [
            "O DataFrame tem 0.0% de dados ausentes\n",
            "\n",
            "\n"
          ]
        }
      ],
      "source": [
        "# Vamos ver se ainda temos dados ausentes\n",
        "missingData(df)"
      ]
    },
    {
      "cell_type": "markdown",
      "id": "782e9e8f-923c-4075-9d45-ebea017faeb3",
      "metadata": {
        "id": "782e9e8f-923c-4075-9d45-ebea017faeb3"
      },
      "source": [
        "#### Com o objetivo de trabalhar com data e tempo farei uma transformação nos tipos de dados das colunas de tempo e depois criarei uma coluna com a duração de utilização do serviço em minutos, uma coluna de dia e mês"
      ]
    },
    {
      "cell_type": "code",
      "execution_count": 13,
      "id": "e24886e5-f0ee-47f9-a2ec-5f01eb7cac69",
      "metadata": {
        "id": "e24886e5-f0ee-47f9-a2ec-5f01eb7cac69"
      },
      "outputs": [],
      "source": [
        "df['started_at'] = pd.to_datetime(df['started_at'])\n",
        "df['ended_at'] = pd.to_datetime(df['ended_at'])"
      ]
    },
    {
      "cell_type": "code",
      "execution_count": 14,
      "id": "2253562b-2d24-44d0-bb3b-fe2f9ce746c5",
      "metadata": {
        "id": "2253562b-2d24-44d0-bb3b-fe2f9ce746c5",
        "outputId": "00763cb0-c89a-4c4c-a4ce-444a06e8e644",
        "colab": {
          "base_uri": "https://localhost:8080/"
        }
      },
      "outputs": [
        {
          "output_type": "execute_result",
          "data": {
            "text/plain": [
              "rideable_type                 object\n",
              "started_at            datetime64[ns]\n",
              "ended_at              datetime64[ns]\n",
              "start_station_name            object\n",
              "end_station_name              object\n",
              "start_lat                    float64\n",
              "start_lng                    float64\n",
              "end_lat                      float64\n",
              "end_lng                      float64\n",
              "member_casual                 object\n",
              "dtype: object"
            ]
          },
          "metadata": {},
          "execution_count": 14
        }
      ],
      "source": [
        "# Olhando os tipos de dados\n",
        "df.dtypes"
      ]
    },
    {
      "cell_type": "code",
      "execution_count": 15,
      "id": "f7401cc4-b380-429f-9146-d6a1e56c7fde",
      "metadata": {
        "id": "f7401cc4-b380-429f-9146-d6a1e56c7fde"
      },
      "outputs": [],
      "source": [
        "df['dur_min'] = round(pd.Series(df.ended_at - df.started_at).dt.total_seconds()/60, 2)"
      ]
    },
    {
      "cell_type": "code",
      "source": [
        "df['day'] = df['started_at'].dt.strftime('%A')\n",
        "df['month'] = df['started_at'].dt.month_name()"
      ],
      "metadata": {
        "id": "4Hyjt3Stu5zt"
      },
      "id": "4Hyjt3Stu5zt",
      "execution_count": 16,
      "outputs": []
    },
    {
      "cell_type": "code",
      "execution_count": 17,
      "id": "f6dc8dc9-8ff4-4fa6-a989-04e0e845c503",
      "metadata": {
        "id": "f6dc8dc9-8ff4-4fa6-a989-04e0e845c503",
        "outputId": "24c5f7c7-0405-4cc7-b712-c44dacfb6b1e",
        "colab": {
          "base_uri": "https://localhost:8080/",
          "height": 444
        }
      },
      "outputs": [
        {
          "output_type": "execute_result",
          "data": {
            "text/plain": [
              "  rideable_type          started_at            ended_at  \\\n",
              "0   docked_bike 2020-04-26 17:45:14 2020-04-26 18:12:03   \n",
              "1   docked_bike 2020-04-17 17:08:54 2020-04-17 17:17:03   \n",
              "2   docked_bike 2020-04-01 17:54:13 2020-04-01 18:08:36   \n",
              "3   docked_bike 2020-04-07 12:50:19 2020-04-07 13:02:31   \n",
              "4   docked_bike 2020-04-18 10:22:59 2020-04-18 11:15:54   \n",
              "\n",
              "             start_station_name             end_station_name  start_lat  \\\n",
              "0                  Eckhart Park  Lincoln Ave & Diversey Pkwy    41.8964   \n",
              "1     Drake Ave & Fullerton Ave              Kosciuszko Park    41.9244   \n",
              "2          McClurg Ct & Erie St   Indiana Ave & Roosevelt Rd    41.8945   \n",
              "3  California Ave & Division St       Wood St & Augusta Blvd    41.9030   \n",
              "4          Rush St & Hubbard St   Sheridan Rd & Lawrence Ave    41.8902   \n",
              "\n",
              "   start_lng  end_lat  end_lng member_casual  dur_min        day  month  \n",
              "0   -87.6610  41.9322 -87.6586        member    26.82     Sunday  April  \n",
              "1   -87.7154  41.9306 -87.7238        member     8.15     Friday  April  \n",
              "2   -87.6179  41.8679 -87.6230        member    14.38  Wednesday  April  \n",
              "3   -87.6975  41.8992 -87.6722        member    12.20    Tuesday  April  \n",
              "4   -87.6262  41.9695 -87.6547        casual    52.92   Saturday  April  "
            ],
            "text/html": [
              "\n",
              "  <div id=\"df-e98c5502-4468-471a-8b31-6a93969c15fd\">\n",
              "    <div class=\"colab-df-container\">\n",
              "      <div>\n",
              "<style scoped>\n",
              "    .dataframe tbody tr th:only-of-type {\n",
              "        vertical-align: middle;\n",
              "    }\n",
              "\n",
              "    .dataframe tbody tr th {\n",
              "        vertical-align: top;\n",
              "    }\n",
              "\n",
              "    .dataframe thead th {\n",
              "        text-align: right;\n",
              "    }\n",
              "</style>\n",
              "<table border=\"1\" class=\"dataframe\">\n",
              "  <thead>\n",
              "    <tr style=\"text-align: right;\">\n",
              "      <th></th>\n",
              "      <th>rideable_type</th>\n",
              "      <th>started_at</th>\n",
              "      <th>ended_at</th>\n",
              "      <th>start_station_name</th>\n",
              "      <th>end_station_name</th>\n",
              "      <th>start_lat</th>\n",
              "      <th>start_lng</th>\n",
              "      <th>end_lat</th>\n",
              "      <th>end_lng</th>\n",
              "      <th>member_casual</th>\n",
              "      <th>dur_min</th>\n",
              "      <th>day</th>\n",
              "      <th>month</th>\n",
              "    </tr>\n",
              "  </thead>\n",
              "  <tbody>\n",
              "    <tr>\n",
              "      <th>0</th>\n",
              "      <td>docked_bike</td>\n",
              "      <td>2020-04-26 17:45:14</td>\n",
              "      <td>2020-04-26 18:12:03</td>\n",
              "      <td>Eckhart Park</td>\n",
              "      <td>Lincoln Ave &amp; Diversey Pkwy</td>\n",
              "      <td>41.8964</td>\n",
              "      <td>-87.6610</td>\n",
              "      <td>41.9322</td>\n",
              "      <td>-87.6586</td>\n",
              "      <td>member</td>\n",
              "      <td>26.82</td>\n",
              "      <td>Sunday</td>\n",
              "      <td>April</td>\n",
              "    </tr>\n",
              "    <tr>\n",
              "      <th>1</th>\n",
              "      <td>docked_bike</td>\n",
              "      <td>2020-04-17 17:08:54</td>\n",
              "      <td>2020-04-17 17:17:03</td>\n",
              "      <td>Drake Ave &amp; Fullerton Ave</td>\n",
              "      <td>Kosciuszko Park</td>\n",
              "      <td>41.9244</td>\n",
              "      <td>-87.7154</td>\n",
              "      <td>41.9306</td>\n",
              "      <td>-87.7238</td>\n",
              "      <td>member</td>\n",
              "      <td>8.15</td>\n",
              "      <td>Friday</td>\n",
              "      <td>April</td>\n",
              "    </tr>\n",
              "    <tr>\n",
              "      <th>2</th>\n",
              "      <td>docked_bike</td>\n",
              "      <td>2020-04-01 17:54:13</td>\n",
              "      <td>2020-04-01 18:08:36</td>\n",
              "      <td>McClurg Ct &amp; Erie St</td>\n",
              "      <td>Indiana Ave &amp; Roosevelt Rd</td>\n",
              "      <td>41.8945</td>\n",
              "      <td>-87.6179</td>\n",
              "      <td>41.8679</td>\n",
              "      <td>-87.6230</td>\n",
              "      <td>member</td>\n",
              "      <td>14.38</td>\n",
              "      <td>Wednesday</td>\n",
              "      <td>April</td>\n",
              "    </tr>\n",
              "    <tr>\n",
              "      <th>3</th>\n",
              "      <td>docked_bike</td>\n",
              "      <td>2020-04-07 12:50:19</td>\n",
              "      <td>2020-04-07 13:02:31</td>\n",
              "      <td>California Ave &amp; Division St</td>\n",
              "      <td>Wood St &amp; Augusta Blvd</td>\n",
              "      <td>41.9030</td>\n",
              "      <td>-87.6975</td>\n",
              "      <td>41.8992</td>\n",
              "      <td>-87.6722</td>\n",
              "      <td>member</td>\n",
              "      <td>12.20</td>\n",
              "      <td>Tuesday</td>\n",
              "      <td>April</td>\n",
              "    </tr>\n",
              "    <tr>\n",
              "      <th>4</th>\n",
              "      <td>docked_bike</td>\n",
              "      <td>2020-04-18 10:22:59</td>\n",
              "      <td>2020-04-18 11:15:54</td>\n",
              "      <td>Rush St &amp; Hubbard St</td>\n",
              "      <td>Sheridan Rd &amp; Lawrence Ave</td>\n",
              "      <td>41.8902</td>\n",
              "      <td>-87.6262</td>\n",
              "      <td>41.9695</td>\n",
              "      <td>-87.6547</td>\n",
              "      <td>casual</td>\n",
              "      <td>52.92</td>\n",
              "      <td>Saturday</td>\n",
              "      <td>April</td>\n",
              "    </tr>\n",
              "  </tbody>\n",
              "</table>\n",
              "</div>\n",
              "      <button class=\"colab-df-convert\" onclick=\"convertToInteractive('df-e98c5502-4468-471a-8b31-6a93969c15fd')\"\n",
              "              title=\"Convert this dataframe to an interactive table.\"\n",
              "              style=\"display:none;\">\n",
              "        \n",
              "  <svg xmlns=\"http://www.w3.org/2000/svg\" height=\"24px\"viewBox=\"0 0 24 24\"\n",
              "       width=\"24px\">\n",
              "    <path d=\"M0 0h24v24H0V0z\" fill=\"none\"/>\n",
              "    <path d=\"M18.56 5.44l.94 2.06.94-2.06 2.06-.94-2.06-.94-.94-2.06-.94 2.06-2.06.94zm-11 1L8.5 8.5l.94-2.06 2.06-.94-2.06-.94L8.5 2.5l-.94 2.06-2.06.94zm10 10l.94 2.06.94-2.06 2.06-.94-2.06-.94-.94-2.06-.94 2.06-2.06.94z\"/><path d=\"M17.41 7.96l-1.37-1.37c-.4-.4-.92-.59-1.43-.59-.52 0-1.04.2-1.43.59L10.3 9.45l-7.72 7.72c-.78.78-.78 2.05 0 2.83L4 21.41c.39.39.9.59 1.41.59.51 0 1.02-.2 1.41-.59l7.78-7.78 2.81-2.81c.8-.78.8-2.07 0-2.86zM5.41 20L4 18.59l7.72-7.72 1.47 1.35L5.41 20z\"/>\n",
              "  </svg>\n",
              "      </button>\n",
              "      \n",
              "  <style>\n",
              "    .colab-df-container {\n",
              "      display:flex;\n",
              "      flex-wrap:wrap;\n",
              "      gap: 12px;\n",
              "    }\n",
              "\n",
              "    .colab-df-convert {\n",
              "      background-color: #E8F0FE;\n",
              "      border: none;\n",
              "      border-radius: 50%;\n",
              "      cursor: pointer;\n",
              "      display: none;\n",
              "      fill: #1967D2;\n",
              "      height: 32px;\n",
              "      padding: 0 0 0 0;\n",
              "      width: 32px;\n",
              "    }\n",
              "\n",
              "    .colab-df-convert:hover {\n",
              "      background-color: #E2EBFA;\n",
              "      box-shadow: 0px 1px 2px rgba(60, 64, 67, 0.3), 0px 1px 3px 1px rgba(60, 64, 67, 0.15);\n",
              "      fill: #174EA6;\n",
              "    }\n",
              "\n",
              "    [theme=dark] .colab-df-convert {\n",
              "      background-color: #3B4455;\n",
              "      fill: #D2E3FC;\n",
              "    }\n",
              "\n",
              "    [theme=dark] .colab-df-convert:hover {\n",
              "      background-color: #434B5C;\n",
              "      box-shadow: 0px 1px 3px 1px rgba(0, 0, 0, 0.15);\n",
              "      filter: drop-shadow(0px 1px 2px rgba(0, 0, 0, 0.3));\n",
              "      fill: #FFFFFF;\n",
              "    }\n",
              "  </style>\n",
              "\n",
              "      <script>\n",
              "        const buttonEl =\n",
              "          document.querySelector('#df-e98c5502-4468-471a-8b31-6a93969c15fd button.colab-df-convert');\n",
              "        buttonEl.style.display =\n",
              "          google.colab.kernel.accessAllowed ? 'block' : 'none';\n",
              "\n",
              "        async function convertToInteractive(key) {\n",
              "          const element = document.querySelector('#df-e98c5502-4468-471a-8b31-6a93969c15fd');\n",
              "          const dataTable =\n",
              "            await google.colab.kernel.invokeFunction('convertToInteractive',\n",
              "                                                     [key], {});\n",
              "          if (!dataTable) return;\n",
              "\n",
              "          const docLinkHtml = 'Like what you see? Visit the ' +\n",
              "            '<a target=\"_blank\" href=https://colab.research.google.com/notebooks/data_table.ipynb>data table notebook</a>'\n",
              "            + ' to learn more about interactive tables.';\n",
              "          element.innerHTML = '';\n",
              "          dataTable['output_type'] = 'display_data';\n",
              "          await google.colab.output.renderOutput(dataTable, element);\n",
              "          const docLink = document.createElement('div');\n",
              "          docLink.innerHTML = docLinkHtml;\n",
              "          element.appendChild(docLink);\n",
              "        }\n",
              "      </script>\n",
              "    </div>\n",
              "  </div>\n",
              "  "
            ]
          },
          "metadata": {},
          "execution_count": 17
        }
      ],
      "source": [
        "df.head()"
      ]
    },
    {
      "cell_type": "code",
      "execution_count": 18,
      "id": "f7244f8f-56f4-4e6b-87ad-42134b541063",
      "metadata": {
        "id": "f7244f8f-56f4-4e6b-87ad-42134b541063",
        "outputId": "10fa2dfc-e865-45ee-9f38-5d318633650f",
        "colab": {
          "base_uri": "https://localhost:8080/"
        }
      },
      "outputs": [
        {
          "output_type": "execute_result",
          "data": {
            "text/plain": [
              "count    3.295563e+06\n",
              "mean     2.522048e+01\n",
              "std      3.810440e+02\n",
              "min     -2.904997e+04\n",
              "25%      8.030000e+00\n",
              "50%      1.470000e+01\n",
              "75%      2.687000e+01\n",
              "max      5.872003e+04\n",
              "Name: dur_min, dtype: float64"
            ]
          },
          "metadata": {},
          "execution_count": 18
        }
      ],
      "source": [
        "# Vou ver as estatísticas descritivas da nova coluna do DataFrame\n",
        "df['dur_min'].describe()"
      ]
    },
    {
      "cell_type": "markdown",
      "id": "1f8752fe-8cc6-4a72-9510-c75b8762272a",
      "metadata": {
        "id": "1f8752fe-8cc6-4a72-9510-c75b8762272a"
      },
      "source": [
        "Indentifiquei valores incorretos para o tipo de coluna, já que o tempo de utilização da bicicletas não podem ser negativos ou valor zero"
      ]
    },
    {
      "cell_type": "code",
      "execution_count": 19,
      "id": "5deebbb2-a290-457e-952c-a190f6d812f8",
      "metadata": {
        "id": "5deebbb2-a290-457e-952c-a190f6d812f8",
        "outputId": "93b2ca75-5f9f-4064-aa1e-fa08edfcce4c",
        "colab": {
          "base_uri": "https://localhost:8080/"
        }
      },
      "outputs": [
        {
          "output_type": "stream",
          "name": "stdout",
          "text": [
            "Observações com dados negativos ou zerados: 10743 de um total de 3295563 linhas\n"
          ]
        }
      ],
      "source": [
        "print(f'Observações com dados negativos ou zerados: {df[df[\"dur_min\"] <= 0].shape[0]} de um total de {df.shape[0]} linhas')"
      ]
    },
    {
      "cell_type": "markdown",
      "id": "f564e354-821e-40fb-9488-de34e90b08e3",
      "metadata": {
        "id": "f564e354-821e-40fb-9488-de34e90b08e3"
      },
      "source": [
        "Como apenas 652 obervações estão com esse problema farei o drop delas"
      ]
    },
    {
      "cell_type": "code",
      "execution_count": 20,
      "id": "bd61b647-89cb-4695-be02-59c4065d5211",
      "metadata": {
        "id": "bd61b647-89cb-4695-be02-59c4065d5211"
      },
      "outputs": [],
      "source": [
        "Rows = df[df['dur_min'] <= 0].index\n",
        "df = df.drop(Rows, axis=0)"
      ]
    },
    {
      "cell_type": "code",
      "execution_count": 21,
      "id": "0978967f-f340-46b6-a632-e62432c9961d",
      "metadata": {
        "id": "0978967f-f340-46b6-a632-e62432c9961d",
        "outputId": "92c6badc-0a66-4556-ef92-b067acb20af8",
        "colab": {
          "base_uri": "https://localhost:8080/"
        }
      },
      "outputs": [
        {
          "output_type": "execute_result",
          "data": {
            "text/plain": [
              "count    3.284820e+06\n",
              "mean     2.804870e+01\n",
              "std      2.590114e+02\n",
              "min      2.000000e-02\n",
              "25%      8.080000e+00\n",
              "50%      1.475000e+01\n",
              "75%      2.692000e+01\n",
              "max      5.872003e+04\n",
              "Name: dur_min, dtype: float64"
            ]
          },
          "metadata": {},
          "execution_count": 21
        }
      ],
      "source": [
        "df['dur_min'].describe()"
      ]
    },
    {
      "cell_type": "code",
      "execution_count": 22,
      "id": "de5a5993-cad2-4270-bd6e-b3ea495db090",
      "metadata": {
        "id": "de5a5993-cad2-4270-bd6e-b3ea495db090",
        "outputId": "8dc3ee6f-babc-44b9-99fe-03c6d24565e8",
        "colab": {
          "base_uri": "https://localhost:8080/",
          "height": 320
        }
      },
      "outputs": [
        {
          "output_type": "display_data",
          "data": {
            "text/plain": [
              "<Figure size 648x360 with 1 Axes>"
            ],
            "image/png": "[encoded data removed]"
          },
          "metadata": {
            "needs_background": "light"
          }
        }
      ],
      "source": [
        "# Vou olhar a distribuição dessa coluna\n",
        "plt.figure(figsize=(9, 5))\n",
        "sns.boxplot(data=df['dur_min']);"
      ]
    },
    {
      "cell_type": "markdown",
      "id": "3f1d04db-04be-4d64-9ed2-83d505428dd0",
      "metadata": {
        "id": "3f1d04db-04be-4d64-9ed2-83d505428dd0"
      },
      "source": [
        "Tratarei esses outliers, tendo em vista que valores extremos distorcem a indentificação de padrões "
      ]
    },
    {
      "cell_type": "code",
      "execution_count": 23,
      "id": "aa95238a-f180-4725-9696-be10a54a1428",
      "metadata": {
        "id": "aa95238a-f180-4725-9696-be10a54a1428"
      },
      "outputs": [],
      "source": [
        "q1, q3 = df['dur_min'].quantile(0.25), df['dur_min'].quantile(0.75)\n",
        "iqr = q3 - q1\n",
        "cut_of = iqr * 1.5\n",
        "lower = q1 - cut_of\n",
        "upper = q3 + cut_of\n",
        "df['dur_min'] = np.where(df['dur_min'] < lower, np.nan, df['dur_min'])\n",
        "df['dur_min'] = np.where(df['dur_min'] > upper, np.nan, df['dur_min'])\n",
        "df['dur_min'].fillna(method='ffill', inplace=True)"
      ]
    },
    {
      "cell_type": "markdown",
      "id": "0d4c7f0c-15a5-42aa-8ae6-44daec2cf116",
      "metadata": {
        "id": "0d4c7f0c-15a5-42aa-8ae6-44daec2cf116"
      },
      "source": [
        "Usei o método 'ffill' para não modificar muito a distribuição dos dados"
      ]
    },
    {
      "cell_type": "code",
      "execution_count": 24,
      "id": "97219f98-aaa5-452a-a5ed-3fe2c91411b5",
      "metadata": {
        "id": "97219f98-aaa5-452a-a5ed-3fe2c91411b5",
        "outputId": "245d2356-70bb-48cb-bf83-2cd7049b3d8a",
        "colab": {
          "base_uri": "https://localhost:8080/",
          "height": 374
        }
      },
      "outputs": [
        {
          "output_type": "display_data",
          "data": {
            "text/plain": [
              "<Figure size 720x432 with 1 Axes>"
            ],
            "image/png": "[encoded data removed]"
          },
          "metadata": {
            "needs_background": "light"
          }
        }
      ],
      "source": [
        "plt.figure(figsize=(10, 6))\n",
        "sns.boxplot(data = df['dur_min']);"
      ]
    },
    {
      "cell_type": "code",
      "execution_count": 25,
      "id": "2ec29150-a8d8-4d11-a921-b1f43eca1a61",
      "metadata": {
        "id": "2ec29150-a8d8-4d11-a921-b1f43eca1a61",
        "outputId": "175673c0-b6bc-4403-9669-47bd9fe801b7",
        "colab": {
          "base_uri": "https://localhost:8080/",
          "height": 335
        }
      },
      "outputs": [
        {
          "output_type": "display_data",
          "data": {
            "text/plain": [
              "<Figure size 648x360 with 1 Axes>"
            ],
            "image/png": "[encoded data removed]"
          },
          "metadata": {
            "needs_background": "light"
          }
        }
      ],
      "source": [
        "plt.figure(figsize=(9, 5))\n",
        "sns.histplot(df['dur_min']);"
      ]
    },
    {
      "cell_type": "markdown",
      "id": "166ea1a5-0b07-4966-84b2-86d057c06e14",
      "metadata": {
        "id": "166ea1a5-0b07-4966-84b2-86d057c06e14"
      },
      "source": [
        "## Análise"
      ]
    },
    {
      "cell_type": "markdown",
      "id": "d0d81c01-8911-43b3-a060-110da8b0dbbb",
      "metadata": {
        "id": "d0d81c01-8911-43b3-a060-110da8b0dbbb"
      },
      "source": [
        "### 1 - Uso do serviço por tipo de cliente"
      ]
    },
    {
      "cell_type": "code",
      "execution_count": 26,
      "id": "786994a8-6485-4e54-a20c-0093699faf98",
      "metadata": {
        "id": "786994a8-6485-4e54-a20c-0093699faf98",
        "outputId": "46612d67-2b68-4c79-8bfc-8b8c7e037f51",
        "colab": {
          "base_uri": "https://localhost:8080/"
        }
      },
      "outputs": [
        {
          "output_type": "execute_result",
          "data": {
            "text/plain": [
              "member    1936444\n",
              "casual    1348376\n",
              "Name: member_casual, dtype: int64"
            ]
          },
          "metadata": {},
          "execution_count": 26
        }
      ],
      "source": [
        "df['member_casual'].value_counts()"
      ]
    },
    {
      "cell_type": "markdown",
      "id": "55e4a2f3-1842-4e0b-b99c-126e97178bec",
      "metadata": {
        "id": "55e4a2f3-1842-4e0b-b99c-126e97178bec"
      },
      "source": [
        "#### Observações:\n",
        "\n",
        "Mesmo que a base de dados não permita identificar quantos clientes de cada tipo usaram o serviço, é possível ver que de forma geral a maior parte do uso foi por clientes tipo member"
      ]
    },
    {
      "cell_type": "markdown",
      "id": "4bb56459-df3f-4b8f-826d-76f94dde82a7",
      "metadata": {
        "id": "4bb56459-df3f-4b8f-826d-76f94dde82a7"
      },
      "source": [
        "### 2 - Distribuição de tempo em minutos por tipo de cliente e média de cada de tipo"
      ]
    },
    {
      "cell_type": "code",
      "execution_count": 27,
      "id": "967dc88b-e4e5-4746-be29-355d0a40ab20",
      "metadata": {
        "id": "967dc88b-e4e5-4746-be29-355d0a40ab20",
        "outputId": "855cb0d6-e8ba-42d3-a432-68ca35e5f506",
        "colab": {
          "base_uri": "https://localhost:8080/",
          "height": 340
        }
      },
      "outputs": [
        {
          "output_type": "display_data",
          "data": {
            "text/plain": [
              "<Figure size 648x360 with 1 Axes>"
            ],
            "image/png": "[encoded data removed]"
          },
          "metadata": {
            "needs_background": "light"
          }
        }
      ],
      "source": [
        "# Distribuição\n",
        "fig, ax = plt.subplots(figsize=(9, 5))\n",
        "sns.boxplot(x='member_casual', y='dur_min', data=df, ax=ax)\n",
        "plt.title('Tempo de uso dos clientes ', fontdict={'fontsize':18})\n",
        "plt.xlabel('')\n",
        "plt.ylabel('Duração em minutos', fontdict={'fontsize':12});"
      ]
    },
    {
      "cell_type": "code",
      "execution_count": 28,
      "id": "36c000bc-decc-487f-b2c7-af8044edea3e",
      "metadata": {
        "id": "36c000bc-decc-487f-b2c7-af8044edea3e",
        "outputId": "ef51cff5-4524-4331-a2b6-2b410dfa8635",
        "colab": {
          "base_uri": "https://localhost:8080/",
          "height": 143
        }
      },
      "outputs": [
        {
          "output_type": "execute_result",
          "data": {
            "text/plain": [
              "               média em minutos\n",
              "member_casual                  \n",
              "casual                20.530027\n",
              "member                14.475600"
            ],
            "text/html": [
              "\n",
              "  <div id=\"df-847f353a-834c-4a24-bed9-41ff5ade419b\">\n",
              "    <div class=\"colab-df-container\">\n",
              "      <div>\n",
              "<style scoped>\n",
              "    .dataframe tbody tr th:only-of-type {\n",
              "        vertical-align: middle;\n",
              "    }\n",
              "\n",
              "    .dataframe tbody tr th {\n",
              "        vertical-align: top;\n",
              "    }\n",
              "\n",
              "    .dataframe thead th {\n",
              "        text-align: right;\n",
              "    }\n",
              "</style>\n",
              "<table border=\"1\" class=\"dataframe\">\n",
              "  <thead>\n",
              "    <tr style=\"text-align: right;\">\n",
              "      <th></th>\n",
              "      <th>média em minutos</th>\n",
              "    </tr>\n",
              "    <tr>\n",
              "      <th>member_casual</th>\n",
              "      <th></th>\n",
              "    </tr>\n",
              "  </thead>\n",
              "  <tbody>\n",
              "    <tr>\n",
              "      <th>casual</th>\n",
              "      <td>20.530027</td>\n",
              "    </tr>\n",
              "    <tr>\n",
              "      <th>member</th>\n",
              "      <td>14.475600</td>\n",
              "    </tr>\n",
              "  </tbody>\n",
              "</table>\n",
              "</div>\n",
              "      <button class=\"colab-df-convert\" onclick=\"convertToInteractive('df-847f353a-834c-4a24-bed9-41ff5ade419b')\"\n",
              "              title=\"Convert this dataframe to an interactive table.\"\n",
              "              style=\"display:none;\">\n",
              "        \n",
              "  <svg xmlns=\"http://www.w3.org/2000/svg\" height=\"24px\"viewBox=\"0 0 24 24\"\n",
              "       width=\"24px\">\n",
              "    <path d=\"M0 0h24v24H0V0z\" fill=\"none\"/>\n",
              "    <path d=\"M18.56 5.44l.94 2.06.94-2.06 2.06-.94-2.06-.94-.94-2.06-.94 2.06-2.06.94zm-11 1L8.5 8.5l.94-2.06 2.06-.94-2.06-.94L8.5 2.5l-.94 2.06-2.06.94zm10 10l.94 2.06.94-2.06 2.06-.94-2.06-.94-.94-2.06-.94 2.06-2.06.94z\"/><path d=\"M17.41 7.96l-1.37-1.37c-.4-.4-.92-.59-1.43-.59-.52 0-1.04.2-1.43.59L10.3 9.45l-7.72 7.72c-.78.78-.78 2.05 0 2.83L4 21.41c.39.39.9.59 1.41.59.51 0 1.02-.2 1.41-.59l7.78-7.78 2.81-2.81c.8-.78.8-2.07 0-2.86zM5.41 20L4 18.59l7.72-7.72 1.47 1.35L5.41 20z\"/>\n",
              "  </svg>\n",
              "      </button>\n",
              "      \n",
              "  <style>\n",
              "    .colab-df-container {\n",
              "      display:flex;\n",
              "      flex-wrap:wrap;\n",
              "      gap: 12px;\n",
              "    }\n",
              "\n",
              "    .colab-df-convert {\n",
              "      background-color: #E8F0FE;\n",
              "      border: none;\n",
              "      border-radius: 50%;\n",
              "      cursor: pointer;\n",
              "      display: none;\n",
              "      fill: #1967D2;\n",
              "      height: 32px;\n",
              "      padding: 0 0 0 0;\n",
              "      width: 32px;\n",
              "    }\n",
              "\n",
              "    .colab-df-convert:hover {\n",
              "      background-color: #E2EBFA;\n",
              "      box-shadow: 0px 1px 2px rgba(60, 64, 67, 0.3), 0px 1px 3px 1px rgba(60, 64, 67, 0.15);\n",
              "      fill: #174EA6;\n",
              "    }\n",
              "\n",
              "    [theme=dark] .colab-df-convert {\n",
              "      background-color: #3B4455;\n",
              "      fill: #D2E3FC;\n",
              "    }\n",
              "\n",
              "    [theme=dark] .colab-df-convert:hover {\n",
              "      background-color: #434B5C;\n",
              "      box-shadow: 0px 1px 3px 1px rgba(0, 0, 0, 0.15);\n",
              "      filter: drop-shadow(0px 1px 2px rgba(0, 0, 0, 0.3));\n",
              "      fill: #FFFFFF;\n",
              "    }\n",
              "  </style>\n",
              "\n",
              "      <script>\n",
              "        const buttonEl =\n",
              "          document.querySelector('#df-847f353a-834c-4a24-bed9-41ff5ade419b button.colab-df-convert');\n",
              "        buttonEl.style.display =\n",
              "          google.colab.kernel.accessAllowed ? 'block' : 'none';\n",
              "\n",
              "        async function convertToInteractive(key) {\n",
              "          const element = document.querySelector('#df-847f353a-834c-4a24-bed9-41ff5ade419b');\n",
              "          const dataTable =\n",
              "            await google.colab.kernel.invokeFunction('convertToInteractive',\n",
              "                                                     [key], {});\n",
              "          if (!dataTable) return;\n",
              "\n",
              "          const docLinkHtml = 'Like what you see? Visit the ' +\n",
              "            '<a target=\"_blank\" href=https://colab.research.google.com/notebooks/data_table.ipynb>data table notebook</a>'\n",
              "            + ' to learn more about interactive tables.';\n",
              "          element.innerHTML = '';\n",
              "          dataTable['output_type'] = 'display_data';\n",
              "          await google.colab.output.renderOutput(dataTable, element);\n",
              "          const docLink = document.createElement('div');\n",
              "          docLink.innerHTML = docLinkHtml;\n",
              "          element.appendChild(docLink);\n",
              "        }\n",
              "      </script>\n",
              "    </div>\n",
              "  </div>\n",
              "  "
            ]
          },
          "metadata": {},
          "execution_count": 28
        }
      ],
      "source": [
        "df.groupby('member_casual')['dur_min'].mean().to_frame('média em minutos')"
      ]
    },
    {
      "cell_type": "markdown",
      "id": "69f7c3a7-d331-4065-ba5d-74c44513360d",
      "metadata": {
        "id": "69f7c3a7-d331-4065-ba5d-74c44513360d"
      },
      "source": [
        "#### Observações:\n",
        "\n",
        "    - Os clientes do tipo casual têm média e distribuição maiores quando comparados com os do tipo member"
      ]
    },
    {
      "cell_type": "markdown",
      "id": "6d75060f-1ce7-4560-bae7-6ad317f904f2",
      "metadata": {
        "id": "6d75060f-1ce7-4560-bae7-6ad317f904f2"
      },
      "source": [
        "### 3 - Tipos de bicicletas preferidos por tipo de cliente"
      ]
    },
    {
      "cell_type": "code",
      "execution_count": 29,
      "id": "87b9a991-fadc-4f40-8ee1-ae875165bf2b",
      "metadata": {
        "id": "87b9a991-fadc-4f40-8ee1-ae875165bf2b",
        "outputId": "1d86d4db-93e7-4df4-b8fb-3b20f74372bc",
        "colab": {
          "base_uri": "https://localhost:8080/",
          "height": 341
        }
      },
      "outputs": [
        {
          "output_type": "display_data",
          "data": {
            "text/plain": [
              "<Figure size 648x360 with 1 Axes>"
            ],
            "image/png": "[encoded data removed]"
          },
          "metadata": {
            "needs_background": "light"
          }
        }
      ],
      "source": [
        "fig, ax = plt.subplots(figsize = (9, 5))\n",
        "sns.countplot(x = 'rideable_type', hue = 'member_casual', data = df)\n",
        "ax.set_xlabel('')\n",
        "ax.set_ylabel('Frequência em Milhões', fontsize = 14)\n",
        "ax.set_title('Tipos de Bicicletas mais usadas', fontsize = 18);"
      ]
    },
    {
      "cell_type": "markdown",
      "id": "17bcf530-0695-4395-af45-c643a33038dc",
      "metadata": {
        "id": "17bcf530-0695-4395-af45-c643a33038dc"
      },
      "source": [
        "##### Observações:\n",
        "\n",
        "        - O tipo de bicicleta mais usado é o 'classic_bike'"
      ]
    },
    {
      "cell_type": "markdown",
      "id": "fd3898e4-5f26-419e-af44-11954c1aeb35",
      "metadata": {
        "id": "fd3898e4-5f26-419e-af44-11954c1aeb35"
      },
      "source": [
        "### 4 - Horário de uso maior de serviço por tipo de cliente"
      ]
    },
    {
      "cell_type": "markdown",
      "id": "5ddfbf3a-f9ea-424f-a05c-a80bfcb217c8",
      "metadata": {
        "id": "5ddfbf3a-f9ea-424f-a05c-a80bfcb217c8"
      },
      "source": [
        "Tipo member"
      ]
    },
    {
      "cell_type": "code",
      "execution_count": 30,
      "id": "1b66bbe4-1082-46bc-9d4e-8f58e4d92ab0",
      "metadata": {
        "id": "1b66bbe4-1082-46bc-9d4e-8f58e4d92ab0",
        "outputId": "6a52ffb7-51fb-45cb-f347-d7aa76c35f54",
        "colab": {
          "base_uri": "https://localhost:8080/",
          "height": 447
        }
      },
      "outputs": [
        {
          "output_type": "display_data",
          "data": {
            "text/plain": [
              "<Figure size 1152x504 with 1 Axes>"
            ],
            "image/png": "[encoded data removed]"
          },
          "metadata": {
            "needs_background": "light"
          }
        }
      ],
      "source": [
        "fig, ax = plt.subplots(figsize=(16,7))\n",
        "sns.countplot(df[df['member_casual'] == 'member'].started_at.dt.hour, color='#253760', ax=ax)\n",
        "ax.set_title('Horários preferidos dos membros', fontsize = 16)\n",
        "ax.set_xlabel('');\n",
        "\n",
        "for b in ax.patches:\n",
        "        height_bar = b.get_height()\n",
        "        ax.annotate(\n",
        "                    f'{round(height_bar/1000, 1)}K',\n",
        "                    xy=(b.get_x() + b.get_width()/2,  height_bar),\n",
        "                    xytext=(0, -12),\n",
        "                    textcoords=\"offset points\",\n",
        "                    va='center',\n",
        "                    ha='center',\n",
        "                    fontsize=8.5,\n",
        "                    color='w'\n",
        "                    )\n",
        "plt.gca().axes.get_yaxis().set_visible(False)\n",
        "ax.spines['right'].set_visible(False)\n",
        "ax.spines['left'].set_visible(False)\n",
        "ax.spines['top'].set_visible(False)\n",
        "ax.spines['bottom'].set_visible(False)"
      ]
    },
    {
      "cell_type": "markdown",
      "id": "9322db6a-526a-46d7-a464-6c514b0eb366",
      "metadata": {
        "id": "9322db6a-526a-46d7-a464-6c514b0eb366"
      },
      "source": [
        "Tipo casual"
      ]
    },
    {
      "cell_type": "code",
      "execution_count": 31,
      "id": "cb157d07-0363-4a47-a324-6df632f62a9b",
      "metadata": {
        "id": "cb157d07-0363-4a47-a324-6df632f62a9b",
        "outputId": "7dc80378-4cac-4aa1-896e-1d20fd9bba55",
        "colab": {
          "base_uri": "https://localhost:8080/",
          "height": 388
        }
      },
      "outputs": [
        {
          "output_type": "display_data",
          "data": {
            "text/plain": [
              "<Figure size 1296x432 with 1 Axes>"
            ],
            "image/png": "[encoded data removed]"
          },
          "metadata": {
            "needs_background": "light"
          }
        }
      ],
      "source": [
        "fig, ax = plt.subplots(figsize=(18,6))\n",
        "sns.countplot(df[df['member_casual'] == 'casual'].started_at.dt.hour, color='#253760', ax=ax)\n",
        "ax.set_title('Horas Preferidas Por Clientes do Tipo Casual', fontsize = 16)\n",
        "ax.set_xlabel('');\n",
        "\n",
        "for b in ax.patches:\n",
        "        height_bar = b.get_height()\n",
        "        ax.annotate(\n",
        "                    f'{round(height_bar/1000, 1)}K',\n",
        "                    xy=(b.get_x() + b.get_width()/2,  height_bar),\n",
        "                    xytext=(0, -12),\n",
        "                    textcoords=\"offset points\",\n",
        "                    va='center',\n",
        "                    ha='center',\n",
        "                    fontsize=8.5,\n",
        "                    color='w'\n",
        "                    )\n",
        "plt.gca().axes.get_yaxis().set_visible(False)\n",
        "ax.spines['right'].set_visible(False)\n",
        "ax.spines['left'].set_visible(False)\n",
        "ax.spines['top'].set_visible(False)\n",
        "ax.spines['bottom'].set_visible(False)"
      ]
    },
    {
      "cell_type": "markdown",
      "id": "e49a4d5a-0172-4d68-8ac6-852e0c926e5e",
      "metadata": {
        "id": "e49a4d5a-0172-4d68-8ac6-852e0c926e5e"
      },
      "source": [
        "#### Observações:\n",
        "\n",
        "        - Clientes tipo member possuem uma clara preferência pelo horário de 16h às 18h\n",
        "        - Clientes tipo casual tem preferência pela mesma faixa, mas é mais equilibrado com a tarde toda"
      ]
    },
    {
      "cell_type": "markdown",
      "id": "7cdaadf4-834a-433f-9123-984651b1c444",
      "metadata": {
        "id": "7cdaadf4-834a-433f-9123-984651b1c444"
      },
      "source": [
        "### 5 - Dias da semana preferidos para utilização do serviço"
      ]
    },
    {
      "cell_type": "code",
      "execution_count": 32,
      "id": "4209463d-1141-4722-99ed-ecf12e1ec2a2",
      "metadata": {
        "id": "4209463d-1141-4722-99ed-ecf12e1ec2a2",
        "outputId": "b1d92a00-c4df-422d-eb63-80be8d4d3a53",
        "colab": {
          "base_uri": "https://localhost:8080/",
          "height": 503
        }
      },
      "outputs": [
        {
          "output_type": "display_data",
          "data": {
            "text/plain": [
              "<Figure size 1008x576 with 1 Axes>"
            ],
            "image/png": "[encoded data removed]"
          },
          "metadata": {
            "needs_background": "light"
          }
        }
      ],
      "source": [
        "fig, ax = plt.subplots(figsize=(14,  8))\n",
        "sns.countplot(x = df['day'], hue=df.member_casual, \n",
        "              order=['Monday', 'Tuesday', 'Wednesday', 'Thursday', 'Friday', 'Saturday', 'Sunday'], ax=ax)\n",
        "plt.xlabel('')\n",
        "plt.title('Uso por dia da semana', fontdict={'fontsize':18});\n",
        "\n",
        "for b in ax.patches:\n",
        "        height_bar = b.get_height()\n",
        "        ax.annotate(\n",
        "                    f'{round(height_bar/1000, 1)}K',\n",
        "                    xy=(b.get_x() + b.get_width()/2,  height_bar),\n",
        "                    xytext=(0, -12),\n",
        "                    textcoords=\"offset points\",\n",
        "                    va='center',\n",
        "                    ha='center',\n",
        "                    fontsize=8.5,\n",
        "                    color='w'\n",
        "                    )\n",
        "plt.gca().axes.get_yaxis().set_visible(False)\n",
        "ax.spines['right'].set_visible(False)\n",
        "ax.spines['left'].set_visible(False)\n",
        "ax.spines['top'].set_visible(False)\n",
        "ax.spines['bottom'].set_visible(False)"
      ]
    },
    {
      "cell_type": "markdown",
      "id": "be06e132-c49e-4274-aa8c-b8c6dd891017",
      "metadata": {
        "id": "be06e132-c49e-4274-aa8c-b8c6dd891017"
      },
      "source": [
        "#### Observações:\n",
        "\n",
        "Os clientes do tipo member usam o serviço mais regularmente e os clientes do tipo casual preferem o fim de semana\n",
        "    "
      ]
    },
    {
      "cell_type": "markdown",
      "id": "a3b13db4-7e7c-414a-9271-98b7d825a027",
      "metadata": {
        "id": "a3b13db4-7e7c-414a-9271-98b7d825a027"
      },
      "source": [
        "### 6 - Meses preferidos por tipo de cliente"
      ]
    },
    {
      "cell_type": "code",
      "execution_count": 33,
      "id": "8974c6b4-6e18-4647-999b-be5a4fb156e5",
      "metadata": {
        "id": "8974c6b4-6e18-4647-999b-be5a4fb156e5",
        "outputId": "a1f07053-243f-42d3-f73d-6bc596b1454b",
        "colab": {
          "base_uri": "https://localhost:8080/",
          "height": 503
        }
      },
      "outputs": [
        {
          "output_type": "display_data",
          "data": {
            "text/plain": [
              "<Figure size 1152x576 with 1 Axes>"
            ],
            "image/png": "[encoded data removed]"
          },
          "metadata": {
            "needs_background": "light"
          }
        }
      ],
      "source": [
        "fig, ax = plt.subplots(figsize=(16,  8))\n",
        "sns.countplot(x='month', hue='member_casual', data=df,\n",
        "              order=['January', 'February', 'March', 'April', 'May', 'June', 'July', 'August', 'September', 'October', 'November', 'December'], ax=ax)\n",
        "plt.xlabel('')\n",
        "plt.title('Uso por mês', fontdict={'fontsize':18});\n",
        "\n",
        "for b in ax.patches:\n",
        "        height_bar = b.get_height()\n",
        "        ax.annotate(\n",
        "                    f'{round(height_bar/1000, 1)}K',\n",
        "                    xy=(b.get_x() + b.get_width()/2,  height_bar),\n",
        "                    xytext=(0, -12),\n",
        "                    textcoords=\"offset points\",\n",
        "                    va='center',\n",
        "                    ha='center',\n",
        "                    fontsize=8.5,\n",
        "                    color='w'\n",
        "                    )\n",
        "plt.gca().axes.get_yaxis().set_visible(False)\n",
        "ax.spines['right'].set_visible(False)\n",
        "ax.spines['left'].set_visible(False)\n",
        "ax.spines['top'].set_visible(False)\n",
        "ax.spines['bottom'].set_visible(False)"
      ]
    },
    {
      "cell_type": "markdown",
      "id": "0a026d4e-fc4b-4786-aa2e-7f9fa43d31d6",
      "metadata": {
        "id": "0a026d4e-fc4b-4786-aa2e-7f9fa43d31d6"
      },
      "source": [
        "#### Observações:\n",
        "\n",
        "Os clientes do tipo member tem um uso mais regular, mesmo que maior no meio do ano, já os do tipo casual tem uma preferência mais desbalanceada em favor dos meses de férias nos países do hemisfério norte "
      ]
    },
    {
      "cell_type": "markdown",
      "id": "6c165754-1360-4a08-b7d9-f97c7d7454d0",
      "metadata": {
        "id": "6c165754-1360-4a08-b7d9-f97c7d7454d0"
      },
      "source": [
        "### 7 - Stations preferidas por tipo de cliente"
      ]
    },
    {
      "cell_type": "code",
      "execution_count": 34,
      "id": "705caba2-a432-4c57-8bc0-939053816691",
      "metadata": {
        "id": "705caba2-a432-4c57-8bc0-939053816691",
        "outputId": "d9d1bb81-7fe1-4f78-9abe-51b3c50d7e97",
        "colab": {
          "base_uri": "https://localhost:8080/",
          "height": 491
        }
      },
      "outputs": [
        {
          "output_type": "display_data",
          "data": {
            "text/plain": [
              "<Figure size 1152x576 with 1 Axes>"
            ],
            "image/png": "[encoded data removed]"
          },
          "metadata": {
            "needs_background": "light"
          }
        }
      ],
      "source": [
        "count = df[df['member_casual'] == 'member']['start_station_name'].value_counts()\n",
        "count = count.head(10)\n",
        "\n",
        "fig, ax = plt.subplots(figsize=(16,  8))\n",
        "sns.barplot(y = count.index, x = count.values, color='#3f6bc5', ax=ax)\n",
        "plt.title('As 10 Start Station preferidas por clientes tipo member', fontdict={'fontsize':18})\n",
        "plt.xlabel('');"
      ]
    },
    {
      "cell_type": "code",
      "execution_count": 35,
      "id": "a06adedc-5889-4bbf-9b55-e1a40f2c3612",
      "metadata": {
        "id": "a06adedc-5889-4bbf-9b55-e1a40f2c3612",
        "outputId": "2eb79a8b-c6d5-46e9-c897-74a44e7c8526",
        "colab": {
          "base_uri": "https://localhost:8080/",
          "height": 477
        }
      },
      "outputs": [
        {
          "output_type": "display_data",
          "data": {
            "text/plain": [
              "<Figure size 1152x576 with 1 Axes>"
            ],
            "image/png": "[encoded data removed]"
          },
          "metadata": {
            "needs_background": "light"
          }
        }
      ],
      "source": [
        "count = df[df['member_casual'] == 'casual']['start_station_name'].value_counts()\n",
        "count = count.head(10)\n",
        "\n",
        "fig, ax = plt.subplots(figsize=(16,  8))\n",
        "sns.barplot(y = count.index, x = count.values, color='#3f6bc5', ax=ax)\n",
        "plt.title('As 10 Start Station preferidas por clientes tipo casual', fontdict={'fontsize':18})\n",
        "plt.xlabel('');"
      ]
    },
    {
      "cell_type": "markdown",
      "id": "3c3eefa6-817f-47a4-8cab-3bbb484c8a02",
      "metadata": {
        "id": "3c3eefa6-817f-47a4-8cab-3bbb484c8a02"
      },
      "source": [
        "#### Observações:\n",
        "\n",
        "A preferência para Stations é bastante dispersa, mas nos dois casos é possível ver que os clientes do tipo member e casual preferem a Clark St & Elm St e Street Dr & Grand Ave respectivamente"
      ]
    },
    {
      "cell_type": "markdown",
      "id": "d47bc827-45b0-43c7-8b88-57ef837f0977",
      "metadata": {
        "id": "d47bc827-45b0-43c7-8b88-57ef837f0977"
      },
      "source": [
        "## Observações finais"
      ]
    },
    {
      "cell_type": "markdown",
      "id": "18246776-75df-4a21-a0c7-218e0a2a2a5c",
      "metadata": {
        "id": "18246776-75df-4a21-a0c7-218e0a2a2a5c"
      },
      "source": [
        "### Dicas para análise futuras:\n",
        "\n",
        "##### Disponibilização de informações sobre gênero, etnia e perfil socioeconômico dos clientes;\n",
        "##### Pesquisa com os clientes tipo casual com o objetivo de identificar o que poderia ajudar eles a se tornarem clientes do tipo member"
      ]
    },
    {
      "cell_type": "markdown",
      "id": "8b1e806e-c990-44f3-b742-a678ed7f3047",
      "metadata": {
        "id": "8b1e806e-c990-44f3-b742-a678ed7f3047"
      },
      "source": [
        "### Recomendações:\n",
        "\n",
        "##### Criar campanhas de marketing nas Stations, horas, dias e períodos preferidas dos clientes do tipo casual;\n",
        "##### Procurar incentivar o uso regular das atividades físicas com bicicletas, citando seu bem para a saúde;\n",
        "##### Fazer uma nova análise com mais informações e segmentar os clientes que teriam o perfil para virar member e focalizar as ações de marketing para esses clientes, assim melhorando a eficiência na resolução do problema\n",
        "        "
      ]
    }
  ],
  "metadata": {
    "accelerator": "GPU",
    "colab": {
      "name": "Capstone_google.ipynb",
      "provenance": [],
      "collapsed_sections": []
    },
    "kernelspec": {
      "display_name": "Python 3",
      "language": "python",
      "name": "python3"
    },
    "language_info": {
      "codemirror_mode": {
        "name": "ipython",
        "version": 3
      },
      "file_extension": ".py",
      "mimetype": "text/x-python",
      "name": "python",
      "nbconvert_exporter": "python",
      "pygments_lexer": "ipython3",
      "version": "3.8.8"
    }
  },
  "nbformat": 4,
  "nbformat_minor": 5
}